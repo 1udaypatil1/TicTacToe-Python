{
 "cells": [
  {
   "cell_type": "markdown",
   "metadata": {},
   "source": [
    "# Tic Tac Toe commmand line driven"
   ]
  },
  {
   "cell_type": "code",
   "execution_count": 1,
   "metadata": {},
   "outputs": [],
   "source": [
    "c_moves = ['z',' ',' ',' ',' ',' ',' ',' ',' ',' ']\n",
    "from IPython.display import clear_output"
   ]
  },
  {
   "cell_type": "code",
   "execution_count": 2,
   "metadata": {},
   "outputs": [],
   "source": [
    "def board():\n",
    "    print(f' {c_moves[1]} | {c_moves[2]} | {c_moves[3]} ')\n",
    "    print('-----------')\n",
    "    print(f' {c_moves[4]} | {c_moves[5]} | {c_moves[6]} ')\n",
    "    print('-----------')\n",
    "    print(f' {c_moves[7]} | {c_moves[8]} | {c_moves[9]} ')"
   ]
  },
  {
   "cell_type": "code",
   "execution_count": 3,
   "metadata": {},
   "outputs": [],
   "source": [
    "def choosep():\n",
    "    p1= input('Player1, choose your move X/O : ').upper()\n",
    "    while p1!='X' and p1!='O':\n",
    "        p1 = input('Please choose valid move X/O : ').upper()\n",
    "    if p1=='X':\n",
    "        p2 = 'O'\n",
    "        v = ['X','O']\n",
    "        print('Player 1 plays X')\n",
    "    else:\n",
    "        p2 = 'X'\n",
    "        v = ['O','X']\n",
    "        print('Player 1 plays O')\n",
    "    return v\n",
    "\n",
    "def win_check():\n",
    "        a = True\n",
    "        status = 'D'\n",
    "        #Horizontal X win check\n",
    "        if c_moves[1:4]==['X','X','X'] or c_moves[4:7]==['X','X','X'] or c_moves[7:]==['X','X','X']:\n",
    "            a = False\n",
    "            status = 'X'\n",
    "        #Vertical X win check\n",
    "        elif (c_moves[1] == 'X' and c_moves[4] == 'X' and c_moves[7] == 'X') or (c_moves[2] == 'X' and c_moves[5] == 'X' and c_moves[8] == 'X') or (c_moves[3] == 'X' and c_moves[6] == 'X' and c_moves[9] == 'X'):\n",
    "                    a = False\n",
    "                    status = 'X'\n",
    "        #Diagonal X win check\n",
    "        elif (c_moves[1] == 'X' and c_moves[5] == 'X' and c_moves[9] == 'X') or (c_moves[3] == 'X' and c_moves[5] == 'X' and c_moves[7] == 'X'):\n",
    "                a = False\n",
    "                status = 'X'\n",
    "                \n",
    "        #Horizontal O win check\n",
    "        elif c_moves[1:4]==['O','O','O'] or c_moves[4:7]==['O','O','O'] or c_moves[7:]==['O','O','O']:\n",
    "            a = False\n",
    "            status = 'O'\n",
    "        #Vertical O win check\n",
    "        elif (c_moves[1] == 'O' and c_moves[4] == 'O' and c_moves[7] == 'O') or (c_moves[2] == 'O' and c_moves[5] == 'O' and c_moves[8] == 'O') or (c_moves[3] == 'O' and c_moves[6] == 'O' and c_moves[9] == 'O'):\n",
    "                    a = False\n",
    "                    status = 'O'\n",
    "        #Diagonal O win check\n",
    "        elif (c_moves[1] == 'O' and c_moves[5] == 'O' and c_moves[9] == 'O') or (c_moves[3] == 'O' and c_moves[5] == 'O' and c_moves[7] == 'O'):\n",
    "                a = False\n",
    "                status = 'O'\n",
    "        #Draw check\n",
    "        elif not ' ' in c_moves[1:]:\n",
    "            a = False\n",
    "            status = 'D'\n",
    "        stat = [a,status]\n",
    "        return stat"
   ]
  },
  {
   "cell_type": "code",
   "execution_count": 4,
   "metadata": {},
   "outputs": [],
   "source": [
    "def input_check(ip):\n",
    "    while not ip in ['1','2','3','4','5','6','7','8','9']:\n",
    "        ip = input('Please enter valid number between 1 and 9')\n",
    "    else:\n",
    "        ip = int(ip)\n",
    "    while c_moves[ip] != ' ':\n",
    "        ip = int(input('Already played move !! \\n Try with different move:'))\n",
    "    return ip    \n",
    "\n",
    "def play():\n",
    "    \n",
    "    again = True\n",
    "    [pl1,pl2] = choosep()\n",
    "    while (again):\n",
    "        a = True\n",
    "        global c_moves\n",
    "        c_moves = ['z',' ',' ',' ',' ',' ',' ',' ',' ',' ']\n",
    "        board()\n",
    "        while (a):\n",
    "            ip = input_check(input('Player1 plays: '))\n",
    "            c_moves[ip] = pl1\n",
    "            clear_output()\n",
    "            board()\n",
    "            [a,status] = win_check()\n",
    "        \n",
    "            if status == pl1:\n",
    "                print('Player 1 wins !!')\n",
    "                break\n",
    "            elif status == pl2:\n",
    "                print('Player 2 wins !!')\n",
    "                break\n",
    "        \n",
    "            ip = input_check(input('Player2 plays: '))\n",
    "            c_moves[ip] = pl2\n",
    "            clear_output()\n",
    "            board()\n",
    "            [a,status] = win_check()\n",
    "        \n",
    "            if status == pl1:\n",
    "                print('Player 1 wins !!')\n",
    "                break\n",
    "            elif status == pl2:\n",
    "                print('Player 2 wins !!')\n",
    "                break\n",
    "        \n",
    "        if status == 'D':\n",
    "            print('It\\'s a draw !!')\n",
    "        again = input(\"Do you want to play again ? \\n Y/N : \")\n",
    "        if again.upper() == 'N':\n",
    "            print(\"Thanks for playing !!\")\n",
    "            again = False\n",
    "\n",
    "    return None\n",
    "        "
   ]
  },
  {
   "cell_type": "code",
   "execution_count": 7,
   "metadata": {},
   "outputs": [
    {
     "name": "stdout",
     "output_type": "stream",
     "text": [
      "   |   | X \n",
      "-----------\n",
      " O | X | O \n",
      "-----------\n",
      " X | O | X \n",
      "Player 1 wins !!\n",
      "Do you want to play again ? \n",
      " Y/N : n\n",
      "Thanks for playing !!\n"
     ]
    }
   ],
   "source": [
    "play()"
   ]
  },
  {
   "cell_type": "code",
   "execution_count": null,
   "metadata": {},
   "outputs": [],
   "source": []
  },
  {
   "cell_type": "code",
   "execution_count": null,
   "metadata": {},
   "outputs": [],
   "source": []
  },
  {
   "cell_type": "code",
   "execution_count": null,
   "metadata": {},
   "outputs": [],
   "source": []
  },
  {
   "cell_type": "code",
   "execution_count": null,
   "metadata": {},
   "outputs": [],
   "source": []
  },
  {
   "cell_type": "code",
   "execution_count": null,
   "metadata": {},
   "outputs": [],
   "source": []
  },
  {
   "cell_type": "code",
   "execution_count": null,
   "metadata": {},
   "outputs": [],
   "source": []
  },
  {
   "cell_type": "code",
   "execution_count": null,
   "metadata": {},
   "outputs": [],
   "source": []
  },
  {
   "cell_type": "code",
   "execution_count": null,
   "metadata": {},
   "outputs": [],
   "source": []
  }
 ],
 "metadata": {
  "kernelspec": {
   "display_name": "Python 3",
   "language": "python",
   "name": "python3"
  },
  "language_info": {
   "codemirror_mode": {
    "name": "ipython",
    "version": 3
   },
   "file_extension": ".py",
   "mimetype": "text/x-python",
   "name": "python",
   "nbconvert_exporter": "python",
   "pygments_lexer": "ipython3",
   "version": "3.8.3"
  }
 },
 "nbformat": 4,
 "nbformat_minor": 2
}
